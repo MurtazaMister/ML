{
  "nbformat": 4,
  "nbformat_minor": 0,
  "metadata": {
    "colab": {
      "provenance": [],
      "authorship_tag": "ABX9TyOK5ZAPuAQqwcZLc0mlVPf9",
      "include_colab_link": true
    },
    "kernelspec": {
      "name": "python3",
      "display_name": "Python 3"
    },
    "language_info": {
      "name": "python"
    }
  },
  "cells": [
    {
      "cell_type": "markdown",
      "metadata": {
        "id": "view-in-github",
        "colab_type": "text"
      },
      "source": [
        "<a href=\"https://colab.research.google.com/github/MurtazaMister/ML/blob/master/ML_Lab03.ipynb\" target=\"_parent\"><img src=\"https://colab.research.google.com/assets/colab-badge.svg\" alt=\"Open In Colab\"/></a>"
      ]
    },
    {
      "cell_type": "code",
      "execution_count": 1,
      "metadata": {
        "id": "74YTYHczQZLS"
      },
      "outputs": [],
      "source": [
        "# Implementation of Naive bayes classifier\n",
        "\n",
        "from sklearn import preprocessing\n",
        "from sklearn.naive_bayes import GaussianNB, MultinomialNB\n",
        "\n",
        "weather = ['Sunny', 'Sunny', 'Overcast', 'Rainy', 'Rainy','Rainy', 'Overcast',\n",
        "'Sunny', 'Sunny', 'Rainy', 'Sunny', 'Overcast', 'Overcast', 'Rainy']\n",
        "\n",
        "temp = ['Hot','Hot','Hot','Mild','Cool','Cool','Cool','Mild',\n",
        "'Cool','Mild','Mild','Mild','Hot','Mild']\n",
        "\n",
        "play=['No','No','Yes','Yes','Yes','No','Yes','No','Yes',\n",
        "'Yes','Yes','Yes','Yes','No']"
      ]
    },
    {
      "cell_type": "code",
      "source": [
        "le = preprocessing.LabelEncoder()\n",
        "\n",
        "weather_encoded = le.fit_transform(weather)\n",
        "print(\"Weather: \", weather_encoded)"
      ],
      "metadata": {
        "colab": {
          "base_uri": "https://localhost:8080/"
        },
        "id": "2dj8R2QEVhGe",
        "outputId": "560873cf-ee10-4c63-a6b8-9644d09a756e"
      },
      "execution_count": 2,
      "outputs": [
        {
          "output_type": "stream",
          "name": "stdout",
          "text": [
            "Weather:  [2 2 0 1 1 1 0 2 2 1 2 0 0 1]\n"
          ]
        }
      ]
    },
    {
      "cell_type": "code",
      "source": [
        "temp_encoded = le.fit_transform(temp)\n",
        "label = le.fit_transform(play)\n",
        "\n",
        "print(\"Temp: \",temp_encoded)\n",
        "print(\"Play: \",label)"
      ],
      "metadata": {
        "colab": {
          "base_uri": "https://localhost:8080/"
        },
        "id": "41YSugvSVr-i",
        "outputId": "78274fac-dffd-47e0-c96e-0ccba0d000bd"
      },
      "execution_count": 3,
      "outputs": [
        {
          "output_type": "stream",
          "name": "stdout",
          "text": [
            "Temp:  [1 1 1 2 0 0 0 2 0 2 2 2 1 2]\n",
            "Play:  [0 0 1 1 1 0 1 0 1 1 1 1 1 0]\n"
          ]
        }
      ]
    },
    {
      "cell_type": "code",
      "source": [
        "features = tuple(zip(weather_encoded, temp_encoded))\n",
        "print(\"Features: \",features)"
      ],
      "metadata": {
        "colab": {
          "base_uri": "https://localhost:8080/"
        },
        "id": "2E_PQZ2eV5PA",
        "outputId": "93780796-9d5e-40e6-c4e3-5765cc3439fe"
      },
      "execution_count": 4,
      "outputs": [
        {
          "output_type": "stream",
          "name": "stdout",
          "text": [
            "Features:  ((2, 1), (2, 1), (0, 1), (1, 2), (1, 0), (1, 0), (0, 0), (2, 2), (2, 0), (1, 2), (2, 2), (0, 2), (0, 1), (1, 2))\n"
          ]
        }
      ]
    },
    {
      "cell_type": "code",
      "source": [
        "model = MultinomialNB()\n",
        "model.fit(features,label)"
      ],
      "metadata": {
        "colab": {
          "base_uri": "https://localhost:8080/"
        },
        "id": "54lnLBJYWEBt",
        "outputId": "509223a8-35d4-4fed-c461-1aadb6beb7d7"
      },
      "execution_count": 5,
      "outputs": [
        {
          "output_type": "execute_result",
          "data": {
            "text/plain": [
              "MultinomialNB()"
            ]
          },
          "metadata": {},
          "execution_count": 5
        }
      ]
    },
    {
      "cell_type": "code",
      "source": [
        "predicted = model.predict([[0,2]])\n",
        "print(predicted)"
      ],
      "metadata": {
        "colab": {
          "base_uri": "https://localhost:8080/"
        },
        "id": "Rha4rpFUXQsC",
        "outputId": "3034a4a5-37e8-4b53-d50b-6e6c2920edb9"
      },
      "execution_count": 6,
      "outputs": [
        {
          "output_type": "stream",
          "name": "stdout",
          "text": [
            "[1]\n"
          ]
        }
      ]
    },
    {
      "cell_type": "code",
      "source": [
        "predicted = model.predict([[2,2]])\n",
        "print(predicted)"
      ],
      "metadata": {
        "colab": {
          "base_uri": "https://localhost:8080/"
        },
        "id": "ayeXlHgNXaO6",
        "outputId": "ebcb7f1f-db58-4dbd-da32-51deab42d5fa"
      },
      "execution_count": 7,
      "outputs": [
        {
          "output_type": "stream",
          "name": "stdout",
          "text": [
            "[1]\n"
          ]
        }
      ]
    },
    {
      "cell_type": "markdown",
      "source": [
        "###Exercise: Manually calculate output for the following cases and compare it with system’s output.\n",
        "#####(1) Will you play if the temperature is ‘Hot’ and weather is ‘overcast’?\n",
        "#####(2) Will you play if the temperature is ‘Mild’ and weather is ‘Sunny’?"
      ],
      "metadata": {
        "id": "5kT6BcKIXv-6"
      }
    },
    {
      "cell_type": "code",
      "source": [
        "predicted = model.predict([[0,1]])\n",
        "manual = 1\n",
        "print(\"Predicted= \",predicted,\"\\nManual= \",manual,\"\\nPredicted = Manual? \",predicted[0]==manual)"
      ],
      "metadata": {
        "colab": {
          "base_uri": "https://localhost:8080/"
        },
        "id": "70AgLCDOX-vA",
        "outputId": "60f9db3b-9198-42f5-bafb-8388f3cff3f6"
      },
      "execution_count": 11,
      "outputs": [
        {
          "output_type": "stream",
          "name": "stdout",
          "text": [
            "Predicted=  [1] \n",
            "Manual=  1 \n",
            "Predicted = Manual?  True\n"
          ]
        }
      ]
    },
    {
      "cell_type": "code",
      "source": [
        "predicted = model.predict([[2,2]])\n",
        "manual = 1\n",
        "print(\"Predicted= \",predicted,\"\\nManual= \",manual,\"\\nPredicted = Manual? \",predicted[0]==manual)"
      ],
      "metadata": {
        "colab": {
          "base_uri": "https://localhost:8080/"
        },
        "id": "iDLxeTHhYULa",
        "outputId": "8a761827-8170-4f2a-b390-4bf8f07ebddd"
      },
      "execution_count": 13,
      "outputs": [
        {
          "output_type": "stream",
          "name": "stdout",
          "text": [
            "Predicted=  [1] \n",
            "Manual=  1 \n",
            "Predicted = Manual?  True\n"
          ]
        }
      ]
    },
    {
      "cell_type": "markdown",
      "source": [
        "##Naive Bayes Classifier Iris"
      ],
      "metadata": {
        "id": "HNrGHqlBbJA7"
      }
    },
    {
      "cell_type": "code",
      "source": [
        "import numpy as np\n",
        "from sklearn import datasets\n",
        "from sklearn.naive_bayes import GaussianNB\n",
        "\n",
        "iris = datasets.load_iris()"
      ],
      "metadata": {
        "id": "yRpLT4tGbM9w"
      },
      "execution_count": 33,
      "outputs": []
    },
    {
      "cell_type": "code",
      "source": [
        "print(\"Features: \",iris.feature_names)\n",
        "print(\"Labels: \",iris.target_names)\n",
        "print(\"\\nData shape: \",iris.data.shape)\n",
        "print(\"\\nTarget shape: \",iris.target.shape)\n",
        "\n",
        "print(\"\\nData type: \",type(iris.data))\n",
        "newdata = iris.data[50:,:]\n",
        "newtarget = iris.target[50:]\n",
        "print(\"New data shape: \",newdata.shape)\n",
        "print(\"\\nNew target shape: \",newtarget.shape)"
      ],
      "metadata": {
        "colab": {
          "base_uri": "https://localhost:8080/"
        },
        "id": "HV6q0QjmbVZp",
        "outputId": "9f1be259-cbfb-43cb-be4c-e2f879b8febd"
      },
      "execution_count": 45,
      "outputs": [
        {
          "output_type": "stream",
          "name": "stdout",
          "text": [
            "Features:  ['sepal length (cm)', 'sepal width (cm)', 'petal length (cm)', 'petal width (cm)']\n",
            "Labels:  ['setosa' 'versicolor' 'virginica']\n",
            "\n",
            "Data shape:  (150, 4)\n",
            "\n",
            "Target shape:  (150,)\n",
            "\n",
            "Data type:  <class 'numpy.ndarray'>\n",
            "New data shape:  (100, 4)\n",
            "\n",
            "New target shape:  (100,)\n"
          ]
        }
      ]
    },
    {
      "cell_type": "code",
      "source": [
        "from sklearn.model_selection import train_test_split\n",
        "\n",
        "data_train, data_test, target_train, target_test = train_test_split(newdata,newtarget, test_size=0.30, random_state=5)"
      ],
      "metadata": {
        "id": "WCq3AbvRcTDv"
      },
      "execution_count": 26,
      "outputs": []
    },
    {
      "cell_type": "code",
      "source": [
        "import numpy as np\n",
        "gnb = GaussianNB()\n",
        "\n",
        "gnb.fit(data_train, target_train)\n",
        "\n",
        "target_pred = gnb.predict(data_test)"
      ],
      "metadata": {
        "id": "F_0qlt1nchuH"
      },
      "execution_count": 27,
      "outputs": []
    },
    {
      "cell_type": "code",
      "source": [
        "from sklearn import metrics\n",
        "\n",
        "print(\"Accuracy: \",metrics.accuracy_score(target_test,target_pred))"
      ],
      "metadata": {
        "colab": {
          "base_uri": "https://localhost:8080/"
        },
        "id": "imPt5nUAxFnM",
        "outputId": "46fbd973-5fdb-49fa-a46d-3e07ee622b29"
      },
      "execution_count": 28,
      "outputs": [
        {
          "output_type": "stream",
          "name": "stdout",
          "text": [
            "Accuracy:  0.9\n"
          ]
        }
      ]
    },
    {
      "cell_type": "code",
      "source": [
        "from sklearn.metrics import confusion_matrix\n",
        "confusion_matrix(target_test, target_pred)"
      ],
      "metadata": {
        "colab": {
          "base_uri": "https://localhost:8080/"
        },
        "id": "SlX3jlgnxQHr",
        "outputId": "ce570e99-c15c-4884-cd8d-d5a7a2b9be4b"
      },
      "execution_count": 29,
      "outputs": [
        {
          "output_type": "execute_result",
          "data": {
            "text/plain": [
              "array([[16,  1],\n",
              "       [ 2, 11]])"
            ]
          },
          "metadata": {},
          "execution_count": 29
        }
      ]
    },
    {
      "cell_type": "code",
      "source": [
        "from sklearn.metrics import precision_score\n",
        "from sklearn.metrics import recall_score\n",
        "precision = precision_score(target_test, target_pred)\n",
        "recall = recall_score(target_test, target_pred)\n",
        "print('precision: {}'.format(precision))\n",
        "print('recall: {}'.format(recall))"
      ],
      "metadata": {
        "colab": {
          "base_uri": "https://localhost:8080/"
        },
        "id": "kE52KeIZxX8i",
        "outputId": "e4caec55-85bb-419b-e2a7-dca657d740c0"
      },
      "execution_count": 30,
      "outputs": [
        {
          "output_type": "stream",
          "name": "stdout",
          "text": [
            "precision: 0.8888888888888888\n",
            "recall: 0.9411764705882353\n"
          ]
        }
      ]
    },
    {
      "cell_type": "markdown",
      "source": [
        "##Try the algo on Dataset2"
      ],
      "metadata": {
        "id": "u0fqWWouxak7"
      }
    },
    {
      "cell_type": "markdown",
      "source": [
        "#### #Task1"
      ],
      "metadata": {
        "id": "sn7lkmwA60EW"
      }
    },
    {
      "cell_type": "code",
      "source": [
        "from sklearn import datasets\n",
        "from sklearn.naive_bayes import GaussianNB\n",
        "import pandas as pd\n",
        "from sklearn.preprocessing import LabelEncoder"
      ],
      "metadata": {
        "id": "qm_MedDlxdyc"
      },
      "execution_count": 47,
      "outputs": []
    },
    {
      "cell_type": "code",
      "source": [
        "data = pd.read_csv(\"Dataset2.csv\")\n",
        "print(data)\n",
        "\n",
        "x = data.iloc[:,:-1].values\n",
        "le = LabelEncoder()\n",
        "x[:,0] = le.fit_transform(x[:,0])\n",
        "x[:,1] = le.fit_transform(x[:,1])\n",
        "x[:,2] = le.fit_transform(x[:,2])\n",
        "x[:,3] = le.fit_transform(x[:,3])\n",
        "print(x)\n",
        "\n",
        "y = data.iloc[:,-1].values\n",
        "y = le.fit_transform(y)\n",
        "print(y)"
      ],
      "metadata": {
        "colab": {
          "base_uri": "https://localhost:8080/"
        },
        "id": "uk98ii24xj_6",
        "outputId": "292d3855-642a-4d2d-ed08-e6c1c88ebcbc"
      },
      "execution_count": 54,
      "outputs": [
        {
          "output_type": "stream",
          "name": "stdout",
          "text": [
            "   Outlook Temp Wind Humidity Class\n",
            "0        R    H    F   Normal     N\n",
            "1        R    H    T     High     N\n",
            "2        O    H    F   Normal     Y\n",
            "3        S    M    F   Normal     N\n",
            "4        S    M    F   Normal     Y\n",
            "5        S    M    T      Low     Y\n",
            "6        O    C    T   Normal     Y\n",
            "7        R    C    F   Normal     Y\n",
            "8        R    C    F      Low     Y\n",
            "9        S    M    F     High     Y\n",
            "10       R    M    T     High     Y\n",
            "11       O    M    T      Low     Y\n",
            "12       O    H    F   Normal     Y\n",
            "13       S    M    T   Normal     N\n",
            "[[1 1 0 2]\n",
            " [1 1 1 0]\n",
            " [0 1 0 2]\n",
            " [2 2 0 2]\n",
            " [2 2 0 2]\n",
            " [2 2 1 1]\n",
            " [0 0 1 2]\n",
            " [1 0 0 2]\n",
            " [1 0 0 1]\n",
            " [2 2 0 0]\n",
            " [1 2 1 0]\n",
            " [0 2 1 1]\n",
            " [0 1 0 2]\n",
            " [2 2 1 2]]\n",
            "[0 0 1 0 1 1 1 1 1 1 1 1 1 0]\n"
          ]
        }
      ]
    },
    {
      "cell_type": "code",
      "source": [
        "from sklearn.model_selection import train_test_split\n",
        "\n",
        "# using random state as last 2 digits of my permanent ID\n",
        "data_train, data_test, target_train, target_test = train_test_split(x,y,train_size=0.9,test_size=0.1, random_state=88)"
      ],
      "metadata": {
        "id": "Ax0KfyO_3m2w"
      },
      "execution_count": 85,
      "outputs": []
    },
    {
      "cell_type": "code",
      "source": [
        "import numpy as np\n",
        "gnb = GaussianNB()\n",
        "\n",
        "gnb.fit(data_train, target_train)\n",
        "\n",
        "target_pred = gnb.predict(data_test)"
      ],
      "metadata": {
        "id": "ey2hdaZo3_2o"
      },
      "execution_count": 86,
      "outputs": []
    },
    {
      "cell_type": "code",
      "source": [
        "from sklearn import metrics\n",
        "\n",
        "print(\"Accuracy: \",metrics.accuracy_score(target_test,target_pred))"
      ],
      "metadata": {
        "colab": {
          "base_uri": "https://localhost:8080/"
        },
        "id": "BXt2b5_A4DQz",
        "outputId": "0155cfe1-448b-4dad-fca8-664c490866b1"
      },
      "execution_count": 87,
      "outputs": [
        {
          "output_type": "stream",
          "name": "stdout",
          "text": [
            "Accuracy:  0.5\n"
          ]
        }
      ]
    },
    {
      "cell_type": "code",
      "source": [
        "target_pred = gnb.predict([[1,2,0,2],\n",
        "                           [2,0,1,0]])\n",
        "print(target_pred)"
      ],
      "metadata": {
        "colab": {
          "base_uri": "https://localhost:8080/"
        },
        "id": "lZGHHe5s6JZg",
        "outputId": "715a26c3-208f-4019-f758-661c2ca1789b"
      },
      "execution_count": 88,
      "outputs": [
        {
          "output_type": "stream",
          "name": "stdout",
          "text": [
            "[1 1]\n"
          ]
        }
      ]
    },
    {
      "cell_type": "code",
      "source": [
        "from sklearn import metrics\n",
        "from sklearn.metrics import precision_score\n",
        "from sklearn.metrics import recall_score\n",
        "\n",
        "print(\"Accuracy: \",metrics.accuracy_score(target_test,target_pred))\n",
        "precision = precision_score(target_test, target_pred)\n",
        "recall = recall_score(target_test, target_pred)\n",
        "print('precision: {}'.format(precision))\n",
        "print('recall: {}'.format(recall))"
      ],
      "metadata": {
        "colab": {
          "base_uri": "https://localhost:8080/"
        },
        "id": "-yHUIlIf6llT",
        "outputId": "00115b28-6e9f-4dc7-fd37-cf6e6e769c97"
      },
      "execution_count": 89,
      "outputs": [
        {
          "output_type": "stream",
          "name": "stdout",
          "text": [
            "Accuracy:  0.5\n",
            "precision: 0.5\n",
            "recall: 1.0\n"
          ]
        }
      ]
    }
  ]
}