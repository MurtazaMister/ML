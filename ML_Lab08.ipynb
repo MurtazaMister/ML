{
  "nbformat": 4,
  "nbformat_minor": 0,
  "metadata": {
    "colab": {
      "provenance": [],
      "authorship_tag": "ABX9TyPe8kZifgWyez/0k3nxf3fc",
      "include_colab_link": true
    },
    "kernelspec": {
      "name": "python3",
      "display_name": "Python 3"
    },
    "language_info": {
      "name": "python"
    }
  },
  "cells": [
    {
      "cell_type": "markdown",
      "metadata": {
        "id": "view-in-github",
        "colab_type": "text"
      },
      "source": [
        "<a href=\"https://colab.research.google.com/github/MurtazaMister/ML/blob/master/ML_Lab08.ipynb\" target=\"_parent\"><img src=\"https://colab.research.google.com/assets/colab-badge.svg\" alt=\"Open In Colab\"/></a>"
      ]
    },
    {
      "cell_type": "markdown",
      "source": [
        "# Ensemble learning"
      ],
      "metadata": {
        "id": "58vKEw--IVo1"
      }
    },
    {
      "cell_type": "markdown",
      "source": [
        "## Stacking "
      ],
      "metadata": {
        "id": "a99l48hDIaLt"
      }
    },
    {
      "cell_type": "code",
      "source": [
        "import pandas as pd\n",
        "import numpy as np\n",
        "import sklearn\n",
        "from sklearn.datasets import load_breast_cancer\n",
        "\n",
        "from sklearn.metrics import accuracy_score"
      ],
      "metadata": {
        "id": "36DWXBdLIcFq"
      },
      "execution_count": 140,
      "outputs": []
    },
    {
      "cell_type": "code",
      "source": [
        "data = load_breast_cancer()\n",
        "data.target_names, data.feature_names"
      ],
      "metadata": {
        "colab": {
          "base_uri": "https://localhost:8080/"
        },
        "id": "iGv0me7aIk-a",
        "outputId": "78052d96-0ae9-47f9-e25c-73e519598e0a"
      },
      "execution_count": 141,
      "outputs": [
        {
          "output_type": "execute_result",
          "data": {
            "text/plain": [
              "(array(['malignant', 'benign'], dtype='<U9'),\n",
              " array(['mean radius', 'mean texture', 'mean perimeter', 'mean area',\n",
              "        'mean smoothness', 'mean compactness', 'mean concavity',\n",
              "        'mean concave points', 'mean symmetry', 'mean fractal dimension',\n",
              "        'radius error', 'texture error', 'perimeter error', 'area error',\n",
              "        'smoothness error', 'compactness error', 'concavity error',\n",
              "        'concave points error', 'symmetry error',\n",
              "        'fractal dimension error', 'worst radius', 'worst texture',\n",
              "        'worst perimeter', 'worst area', 'worst smoothness',\n",
              "        'worst compactness', 'worst concavity', 'worst concave points',\n",
              "        'worst symmetry', 'worst fractal dimension'], dtype='<U23'))"
            ]
          },
          "metadata": {},
          "execution_count": 141
        }
      ]
    },
    {
      "cell_type": "code",
      "source": [
        "from sklearn import preprocessing\n",
        "\n",
        "X = preprocessing.MinMaxScaler().fit_transform(data.data)\n",
        "y = data.target"
      ],
      "metadata": {
        "id": "BT_xHwlgJ8VC"
      },
      "execution_count": 142,
      "outputs": []
    },
    {
      "cell_type": "code",
      "source": [
        "from sklearn.model_selection import train_test_split\n",
        "\n",
        "X_train, X_test, y_train, y_test = train_test_split(\n",
        "    X,\n",
        "    y,\n",
        "    train_size = 0.85\n",
        ")"
      ],
      "metadata": {
        "id": "vNF5Q_OjhwvV"
      },
      "execution_count": 143,
      "outputs": []
    },
    {
      "cell_type": "code",
      "source": [
        "X_train_1, X_test_1, y_train_1, y_test_1 = train_test_split(X_train, y_train, train_size=0.75)\n",
        "X_train_2, X_test_2, y_train_2, y_test_2 = train_test_split(X_train, y_train, train_size=0.75)\n",
        "X_train_3, X_test_3, y_train_3, y_test_3 = train_test_split(X_train, y_train, train_size=0.75)"
      ],
      "metadata": {
        "id": "-hsxziM7jXlg"
      },
      "execution_count": 144,
      "outputs": []
    },
    {
      "cell_type": "markdown",
      "source": [
        "### First model - Decision tree classifier"
      ],
      "metadata": {
        "id": "i1Wf6HkcjzTb"
      }
    },
    {
      "cell_type": "code",
      "source": [
        "from sklearn import tree\n",
        "from sklearn import metrics\n",
        "\n",
        "model_1 = tree.DecisionTreeClassifier(max_depth=1)\n",
        "model_1 = model_1.fit(X_train_1, y_train_1)\n",
        "\n",
        "y_pred_1 = model_1.predict(X_test_1)\n",
        "print(\"Accuracy:\",metrics.accuracy_score(y_test_1, y_pred_1))\n",
        "print(\"Precision:\",metrics.precision_score(y_test_1,y_pred_1))\n",
        "print(\"Recall:\",metrics.recall_score(y_test_1,y_pred_1))\n",
        "print(\"F1 score:\",metrics.f1_score(y_test_1,y_pred_1))"
      ],
      "metadata": {
        "colab": {
          "base_uri": "https://localhost:8080/"
        },
        "id": "tjuZxcmXkEuC",
        "outputId": "cefe994b-d8f1-4adb-ed8d-dda1c110a597"
      },
      "execution_count": 145,
      "outputs": [
        {
          "output_type": "stream",
          "name": "stdout",
          "text": [
            "Accuracy: 0.9338842975206612\n",
            "Precision: 0.9594594594594594\n",
            "Recall: 0.9342105263157895\n",
            "F1 score: 0.9466666666666667\n"
          ]
        }
      ]
    },
    {
      "cell_type": "markdown",
      "source": [
        "### Second model - Gaussian Naive Bayes"
      ],
      "metadata": {
        "id": "ZSingQfjrdpv"
      }
    },
    {
      "cell_type": "code",
      "source": [
        "from sklearn.naive_bayes import GaussianNB\n",
        "from sklearn import metrics\n",
        "\n",
        "model_2 = GaussianNB().fit(X_train_2, y_train_2)\n",
        "\n",
        "y_pred_2 = model_2.predict(X_test_2)\n",
        "\n",
        "print(\"Accuracy:\",metrics.accuracy_score(y_test_2, y_pred_2))\n",
        "print(\"Precision:\",metrics.precision_score(y_test_2,y_pred_2))\n",
        "print(\"Recall:\",metrics.recall_score(y_test_2,y_pred_2))\n",
        "print(\"F1 score:\",metrics.f1_score(y_test_2,y_pred_2))"
      ],
      "metadata": {
        "colab": {
          "base_uri": "https://localhost:8080/"
        },
        "id": "8AK3HRBqrnk5",
        "outputId": "1e2b7d2f-baab-4899-b03a-a3dc330959ba"
      },
      "execution_count": 146,
      "outputs": [
        {
          "output_type": "stream",
          "name": "stdout",
          "text": [
            "Accuracy: 0.9504132231404959\n",
            "Precision: 0.9577464788732394\n",
            "Recall: 0.9577464788732394\n",
            "F1 score: 0.9577464788732394\n"
          ]
        }
      ]
    },
    {
      "cell_type": "markdown",
      "source": [
        "### Third model - Multinomial Naive Bayes"
      ],
      "metadata": {
        "id": "OSTXxHJUsiOB"
      }
    },
    {
      "cell_type": "code",
      "source": [
        "from sklearn.naive_bayes import MultinomialNB\n",
        "from sklearn import metrics\n",
        "\n",
        "model_3 = MultinomialNB().fit(X_train_3, y_train_3)\n",
        "\n",
        "y_pred_3 = model_3.predict(X_test_3)\n",
        "\n",
        "print(\"Accuracy:\",metrics.accuracy_score(y_test_3, y_pred_3))\n",
        "print(\"Precision:\",metrics.precision_score(y_test_3,y_pred_3))\n",
        "print(\"Recall:\",metrics.recall_score(y_test_3,y_pred_3))\n",
        "print(\"F1 score:\",metrics.f1_score(y_test_3,y_pred_3))"
      ],
      "metadata": {
        "colab": {
          "base_uri": "https://localhost:8080/"
        },
        "id": "AMkFGpRetAZE",
        "outputId": "17d233b8-8d77-4665-e50a-41993c50c320"
      },
      "execution_count": 147,
      "outputs": [
        {
          "output_type": "stream",
          "name": "stdout",
          "text": [
            "Accuracy: 0.8181818181818182\n",
            "Precision: 0.7843137254901961\n",
            "Recall: 1.0\n",
            "F1 score: 0.8791208791208792\n"
          ]
        }
      ]
    },
    {
      "cell_type": "markdown",
      "source": [
        "### The final model"
      ],
      "metadata": {
        "id": "xKP3ncHvtbSK"
      }
    },
    {
      "cell_type": "code",
      "source": [
        "from sklearn.linear_model import LogisticRegression\n",
        "\n",
        "X_train_final = []\n",
        "y_train_final = []\n",
        "\n",
        "y_train_final_1 = model_1.predict(X_train)\n",
        "y_train_final_2 = model_2.predict(X_train)\n",
        "y_train_final_3 = model_3.predict(X_train)\n",
        "\n",
        "for i in range(len(y_train_final_1)):\n",
        "  X_train_final.append([y_train_final_1[i], y_train_final_2[i], y_train_final_3[i]])\n",
        "  y_train_final.append(y_train[i])\n",
        "\n",
        "# Training the final model on the outputs of other models\n",
        "model_final = LogisticRegression().fit(X_train_final, y_train_final)"
      ],
      "metadata": {
        "id": "GfZEzZlaxC_y"
      },
      "execution_count": 148,
      "outputs": []
    },
    {
      "cell_type": "code",
      "source": [
        "from sklearn import metrics\n",
        "\n",
        "X_test_final = []\n",
        "y_test_final = []\n",
        "\n",
        "y_test_final_1 = model_1.predict(X_test)\n",
        "y_test_final_2 = model_2.predict(X_test)\n",
        "y_test_final_3 = model_3.predict(X_test)\n",
        "\n",
        "for i in range(len(y_test_final_1)):\n",
        "  X_test_final.append([y_test_final_1[i], y_test_final_2[i], y_test_final_3[i]])\n",
        "  y_test_final.append(y_test[i])\n",
        "\n",
        "y_pred_final = model_final.predict(X_test_final)\n",
        "\n",
        "print(\"Accuracy:\",metrics.accuracy_score(y_test_final, y_pred_final))\n",
        "print(\"Precision:\",metrics.precision_score(y_test_final,y_pred_final))\n",
        "print(\"Recall:\",metrics.recall_score(y_test_final,y_pred_final))\n",
        "print(\"F1 score:\",metrics.f1_score(y_test_final,y_pred_final))"
      ],
      "metadata": {
        "colab": {
          "base_uri": "https://localhost:8080/"
        },
        "id": "jK5979cQ5xE8",
        "outputId": "b72b2e75-0868-48f8-bb64-86899c2c2f79"
      },
      "execution_count": 149,
      "outputs": [
        {
          "output_type": "stream",
          "name": "stdout",
          "text": [
            "Accuracy: 0.9302325581395349\n",
            "Precision: 0.9298245614035088\n",
            "Recall: 0.9636363636363636\n",
            "F1 score: 0.9464285714285715\n"
          ]
        }
      ]
    },
    {
      "cell_type": "markdown",
      "source": [
        "### Stacking using sklearn library - Breast Cancer dataset"
      ],
      "metadata": {
        "id": "mK1b18XrLiVb"
      }
    },
    {
      "cell_type": "code",
      "source": [
        "from sklearn.ensemble import StackingClassifier\n",
        "\n",
        "estimators = [\n",
        "    ('gnb', GaussianNB()),\n",
        "    ('dt', tree.DecisionTreeClassifier(max_depth=1)),\n",
        "    ('mnb', MultinomialNB())\n",
        "]\n",
        "\n",
        "model_stacked = StackingClassifier(estimators=estimators).fit(X_train, y_train)\n",
        "\n",
        "y_pred_stacked = model_stacked.predict(X_test)\n",
        "\n",
        "print(\"Accuracy:\",metrics.accuracy_score(y_test, y_pred_stacked))\n",
        "print(\"Precision:\",metrics.precision_score(y_test,y_pred_stacked))\n",
        "print(\"Recall:\",metrics.recall_score(y_test,y_pred_stacked))\n",
        "print(\"F1 score:\",metrics.f1_score(y_test,y_pred_stacked))"
      ],
      "metadata": {
        "colab": {
          "base_uri": "https://localhost:8080/"
        },
        "id": "iLIaqAiFLn2s",
        "outputId": "b0a9940c-6ba7-4017-b69b-3ff4a73d630a"
      },
      "execution_count": 154,
      "outputs": [
        {
          "output_type": "stream",
          "name": "stdout",
          "text": [
            "Accuracy: 0.9186046511627907\n",
            "Precision: 0.9285714285714286\n",
            "Recall: 0.9454545454545454\n",
            "F1 score: 0.9369369369369368\n"
          ]
        }
      ]
    },
    {
      "cell_type": "markdown",
      "source": [
        "## Bagging"
      ],
      "metadata": {
        "id": "loOWZD3R8E2u"
      }
    },
    {
      "cell_type": "markdown",
      "source": [
        "### Using BaggingClassifier"
      ],
      "metadata": {
        "id": "B4zy6j0wPWU6"
      }
    },
    {
      "cell_type": "code",
      "source": [
        "from sklearn.ensemble import BaggingClassifier\n",
        "\n",
        "model_bagged = BaggingClassifier(max_features = 0.67).fit(X_train, y_train)\n",
        "\n",
        "y_pred_bagged = model_bagged.predict(X_test)\n",
        "\n",
        "print(\"Accuracy:\",metrics.accuracy_score(y_test, y_pred_bagged))\n",
        "print(\"Precision:\",metrics.precision_score(y_test,y_pred_bagged))\n",
        "print(\"Recall:\",metrics.recall_score(y_test,y_pred_bagged))\n",
        "print(\"F1 score:\",metrics.f1_score(y_test,y_pred_bagged))"
      ],
      "metadata": {
        "colab": {
          "base_uri": "https://localhost:8080/"
        },
        "id": "zh2AMOKbLcND",
        "outputId": "8d195150-c37b-4943-e91a-5d4bc53eb329"
      },
      "execution_count": 157,
      "outputs": [
        {
          "output_type": "stream",
          "name": "stdout",
          "text": [
            "Accuracy: 0.9302325581395349\n",
            "Precision: 0.9803921568627451\n",
            "Recall: 0.9090909090909091\n",
            "F1 score: 0.9433962264150944\n"
          ]
        }
      ]
    },
    {
      "cell_type": "markdown",
      "source": [
        "### Using RandomForestClassifier"
      ],
      "metadata": {
        "id": "hY0Z7gSpPaeG"
      }
    },
    {
      "cell_type": "code",
      "source": [
        "from sklearn.ensemble import RandomForestClassifier\n",
        "\n",
        "model_random_forest = RandomForestClassifier(n_estimators=100).fit(X_train, y_train)\n",
        "\n",
        "y_pred_random_forest = model_random_forest.predict(X_test)\n",
        "\n",
        "print(\"Accuracy:\",metrics.accuracy_score(y_test, y_pred_random_forest))\n",
        "print(\"Precision:\",metrics.precision_score(y_test,y_pred_random_forest))\n",
        "print(\"Recall:\",metrics.recall_score(y_test,y_pred_random_forest))\n",
        "print(\"F1 score:\",metrics.f1_score(y_test,y_pred_random_forest))"
      ],
      "metadata": {
        "colab": {
          "base_uri": "https://localhost:8080/"
        },
        "id": "u6Q2ZMuOPdKa",
        "outputId": "828ecae0-eb8d-49f0-9442-ce1bd45b9dc3"
      },
      "execution_count": 158,
      "outputs": [
        {
          "output_type": "stream",
          "name": "stdout",
          "text": [
            "Accuracy: 0.9534883720930233\n",
            "Precision: 0.9811320754716981\n",
            "Recall: 0.9454545454545454\n",
            "F1 score: 0.9629629629629629\n"
          ]
        }
      ]
    },
    {
      "cell_type": "markdown",
      "source": [
        "## Adaboost Classifier"
      ],
      "metadata": {
        "id": "BiX3rA8kOrbc"
      }
    },
    {
      "cell_type": "code",
      "source": [
        "from sklearn.ensemble import AdaBoostClassifier\n",
        "\n",
        "model_adaboost = AdaBoostClassifier(n_estimators=100, learning_rate=1).fit(X_train, y_train)\n",
        "\n",
        "y_pred_adaboost = model_adaboost.predict(X_test)\n",
        "\n",
        "print(\"Accuracy:\",metrics.accuracy_score(y_test, y_pred_adaboost))\n",
        "print(\"Precision:\",metrics.precision_score(y_test,y_pred_adaboost))\n",
        "print(\"Recall:\",metrics.recall_score(y_test,y_pred_adaboost))\n",
        "print(\"F1 score:\",metrics.f1_score(y_test,y_pred_adaboost))"
      ],
      "metadata": {
        "colab": {
          "base_uri": "https://localhost:8080/"
        },
        "id": "wlf9vsurP8bH",
        "outputId": "811c3a90-e8ef-4a4a-d17e-0089b85dd2b1"
      },
      "execution_count": 164,
      "outputs": [
        {
          "output_type": "stream",
          "name": "stdout",
          "text": [
            "Accuracy: 0.9534883720930233\n",
            "Precision: 0.9473684210526315\n",
            "Recall: 0.9818181818181818\n",
            "F1 score: 0.9642857142857142\n"
          ]
        }
      ]
    },
    {
      "cell_type": "markdown",
      "source": [
        "# Exercise\n",
        "\n",
        "Try Adaboost Regression on concrete_data.csv"
      ],
      "metadata": {
        "id": "yU56v_QvQvD2"
      }
    },
    {
      "cell_type": "code",
      "source": [
        "from google.colab import drive\n",
        "drive.mount('/content/drive')"
      ],
      "metadata": {
        "colab": {
          "base_uri": "https://localhost:8080/"
        },
        "id": "Osm8936QQz1J",
        "outputId": "424a7513-d126-4920-a01f-ceb0392bf4e8"
      },
      "execution_count": 166,
      "outputs": [
        {
          "output_type": "stream",
          "name": "stdout",
          "text": [
            "Drive already mounted at /content/drive; to attempt to forcibly remount, call drive.mount(\"/content/drive\", force_remount=True).\n"
          ]
        }
      ]
    },
    {
      "cell_type": "code",
      "source": [
        "from sklearn import preprocessing\n",
        "\n",
        "data = pd.read_csv('/content/drive/MyDrive/concrete.csv')\n",
        "\n",
        "df = pd.DataFrame(data)\n",
        "\n",
        "X = preprocessing.MinMaxScaler().fit_transform(df.iloc[:, :8].values)\n",
        "y = df['strength'].values\n",
        "\n",
        "X, y"
      ],
      "metadata": {
        "colab": {
          "base_uri": "https://localhost:8080/"
        },
        "id": "4BG5goUHRxky",
        "outputId": "457c59cc-370d-4086-e921-1033393dd1a5"
      },
      "execution_count": 195,
      "outputs": [
        {
          "output_type": "execute_result",
          "data": {
            "text/plain": [
              "(array([[0.08972603, 0.58987201, 0.        , ..., 0.49651163, 0.38760662,\n",
              "         0.07417582],\n",
              "        [0.15273973, 0.11741792, 0.62118941, ..., 0.81337209, 0.50727546,\n",
              "         0.03571429],\n",
              "        [0.33789954, 0.        , 0.47826087, ..., 0.45319767, 0.67034621,\n",
              "         0.07417582],\n",
              "        ...,\n",
              "        [0.39817352, 0.32276016, 0.45127436, ..., 0.20087209, 0.43728048,\n",
              "         0.07417582],\n",
              "        [0.54794521, 0.10573178, 0.        , ..., 0.38081395, 0.19066734,\n",
              "         0.73901099],\n",
              "        [1.        , 0.        , 0.        , ..., 0.94186047, 0.04766683,\n",
              "         0.01648352]]), array([29.89, 23.51, 29.22, ..., 44.28, 55.06, 52.61]))"
            ]
          },
          "metadata": {},
          "execution_count": 195
        }
      ]
    },
    {
      "cell_type": "code",
      "source": [
        "from sklearn.model_selection import train_test_split\n",
        "from sklearn.ensemble import AdaBoostRegressor\n",
        "from sklearn.metrics import mean_squared_error\n",
        "\n",
        "X_train, X_test, y_train, y_test = train_test_split(X, y, train_size = 0.80)\n",
        "\n",
        "loss = 100\n",
        "count = 0\n",
        "\n",
        "while loss>10 and count<=10:\n",
        "  model_adaboost_regressor = AdaBoostRegressor(n_estimators=500, learning_rate=1, loss='square').fit(X_train, y_train)\n",
        "  y_pred = model_adaboost_regressor.predict(X_test)\n",
        "  loss = mean_squared_error(y_test, y_pred)\n",
        "  print(f\"{count}/10 - Error: \", loss)\n",
        "  count = count+1"
      ],
      "metadata": {
        "colab": {
          "base_uri": "https://localhost:8080/"
        },
        "id": "VFo7jD-jVBpR",
        "outputId": "f518342f-2f72-4aac-b5e0-ceb8c32a1292"
      },
      "execution_count": 231,
      "outputs": [
        {
          "output_type": "stream",
          "name": "stdout",
          "text": [
            "0/10 - Error:  56.9952334561642\n",
            "1/10 - Error:  56.392111060069034\n",
            "2/10 - Error:  56.89599170902607\n",
            "3/10 - Error:  58.133752751722795\n",
            "4/10 - Error:  56.199624584992996\n",
            "5/10 - Error:  56.27663451206276\n",
            "6/10 - Error:  57.49957180694898\n",
            "7/10 - Error:  56.2583958381867\n",
            "8/10 - Error:  56.50611601056628\n",
            "9/10 - Error:  56.10426509523138\n",
            "10/10 - Error:  54.49461383083794\n"
          ]
        }
      ]
    }
  ]
}