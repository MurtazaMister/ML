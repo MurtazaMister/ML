{
  "nbformat": 4,
  "nbformat_minor": 0,
  "metadata": {
    "colab": {
      "provenance": [],
      "authorship_tag": "ABX9TyNXZzm5r2AHp1io8N1TGls9",
      "include_colab_link": true
    },
    "kernelspec": {
      "name": "python3",
      "display_name": "Python 3"
    },
    "language_info": {
      "name": "python"
    }
  },
  "cells": [
    {
      "cell_type": "markdown",
      "metadata": {
        "id": "view-in-github",
        "colab_type": "text"
      },
      "source": [
        "<a href=\"https://colab.research.google.com/github/MurtazaMister/ML/blob/master/ML_Lab09.ipynb\" target=\"_parent\"><img src=\"https://colab.research.google.com/assets/colab-badge.svg\" alt=\"Open In Colab\"/></a>"
      ]
    },
    {
      "cell_type": "code",
      "source": [
        "from sklearn.datasets import make_blobs\n",
        "X, y = make_blobs(n_samples=100, centers=3, n_features=2,\n",
        "cluster_std=0.2, random_state=0)\n",
        "\n",
        "print(X)\n",
        "print()\n",
        "print(y)"
      ],
      "metadata": {
        "colab": {
          "base_uri": "https://localhost:8080/"
        },
        "id": "_qBQk-FEnqTB",
        "outputId": "74aa962e-4bdf-488b-813f-54ffae203f17"
      },
      "execution_count": 1,
      "outputs": [
        {
          "output_type": "stream",
          "name": "stdout",
          "text": [
            "[[ 2.17058568  0.85600391]\n",
            " [ 0.79717677  4.38116783]\n",
            " [ 2.24471791  0.86666164]\n",
            " [ 0.65349051  4.26123927]\n",
            " [ 0.76655949  4.01978374]\n",
            " [ 0.90668765  4.33505712]\n",
            " [-1.75639774  2.83031825]\n",
            " [-1.33701985  2.93539251]\n",
            " [ 2.18972647  0.97915603]\n",
            " [ 0.84940566  4.23123909]\n",
            " [ 1.12208819  4.32958391]\n",
            " [ 1.22232821  4.5442633 ]\n",
            " [ 2.14840001  0.59041492]\n",
            " [ 1.28282592  4.59765908]\n",
            " [-1.67585498  2.75259455]\n",
            " [ 2.42877931  1.07887259]\n",
            " [-1.54659452  2.7851866 ]\n",
            " [ 0.81364082  3.95853081]\n",
            " [-1.54055233  3.26055081]\n",
            " [-1.74778068  2.92831528]\n",
            " [-1.65562769  2.47320163]\n",
            " [-1.53476058  2.68426356]\n",
            " [-1.39887771  2.59449105]\n",
            " [ 0.79871293  3.90762803]\n",
            " [ 1.841117    1.10855401]\n",
            " [ 2.08064994  0.97806153]\n",
            " [ 1.90128431  1.0055135 ]\n",
            " [ 1.82223755  1.07782896]\n",
            " [-1.60074038  2.87000643]\n",
            " [-1.3725459   3.08258309]\n",
            " [ 1.00507879  4.59464203]\n",
            " [ 2.35291796  1.2768415 ]\n",
            " [ 1.97254373  0.7481727 ]\n",
            " [ 1.27508589  4.26275567]\n",
            " [-1.61801051  2.92137809]\n",
            " [-1.05027506  3.10677816]\n",
            " [ 0.95562631  4.38590703]\n",
            " [ 1.92040099  0.90402977]\n",
            " [ 2.1265408   1.03897829]\n",
            " [-1.67481661  3.22648518]\n",
            " [-1.30157683  2.70189596]\n",
            " [ 2.13573585  0.76070164]\n",
            " [ 2.11491516  1.16294084]\n",
            " [ 0.63501604  4.69394241]\n",
            " [ 1.00725956  4.37941983]\n",
            " [ 0.87433964  4.21617247]\n",
            " [ 1.88110809  0.78189373]\n",
            " [ 1.91635395  0.86773675]\n",
            " [-1.70946846  3.14128552]\n",
            " [-1.42224868  2.883573  ]\n",
            " [-1.09425682  3.18518785]\n",
            " [ 1.92809831  1.03295032]\n",
            " [ 0.79481041  4.31417641]\n",
            " [ 2.09692252  1.09299147]\n",
            " [-1.6265105   3.30378867]\n",
            " [-1.35553789  2.78767714]\n",
            " [ 2.29102344  0.86167869]\n",
            " [ 2.05736753  1.25483776]\n",
            " [ 0.98542178  4.26635056]\n",
            " [ 2.43189766  0.62811185]\n",
            " [ 1.80117052  1.091543  ]\n",
            " [-1.7854754   2.97129244]\n",
            " [-1.68758595  2.77997231]\n",
            " [-1.49356931  3.04488855]\n",
            " [-1.82515553  3.0057606 ]\n",
            " [ 1.97463213  1.14215267]\n",
            " [ 1.12847762  4.32812233]\n",
            " [-1.72694708  2.60892804]\n",
            " [ 1.99295702  0.90889673]\n",
            " [ 1.16628776  4.27351589]\n",
            " [-1.34273225  2.98162779]\n",
            " [ 1.430221    4.01291419]\n",
            " [ 0.46567212  4.43451105]\n",
            " [ 2.43985593  1.19376662]\n",
            " [ 1.88302238  1.27967665]\n",
            " [ 1.20415022  4.05682216]\n",
            " [ 1.01175531  4.22343114]\n",
            " [ 0.84177799  4.2318767 ]\n",
            " [-1.5977028   2.642892  ]\n",
            " [ 2.13055263  0.6777835 ]\n",
            " [ 0.72571101  4.4592854 ]\n",
            " [ 0.98957352  4.36428171]\n",
            " [ 2.00166685  1.05815494]\n",
            " [ 0.65023041  4.39634378]\n",
            " [ 1.82064284  1.2863879 ]\n",
            " [ 1.06504273  4.37052219]\n",
            " [ 0.97063363  4.3894537 ]\n",
            " [ 0.87410905  4.06766089]\n",
            " [ 2.1780834   1.08210499]\n",
            " [ 0.89880472  4.24332678]\n",
            " [ 1.96823681  1.26751641]\n",
            " [ 2.13446886  0.67905136]\n",
            " [-1.30697209  3.04893501]\n",
            " [-1.73375258  3.05420116]\n",
            " [-1.7900855   2.82556534]\n",
            " [-1.28929805  2.98127078]\n",
            " [ 1.03888362  4.13296818]\n",
            " [ 1.14915732  4.15535432]\n",
            " [-1.40185772  2.59747073]\n",
            " [-1.77199112  3.08675486]]\n",
            "\n",
            "[1 0 1 0 0 0 2 2 1 0 0 0 1 0 2 1 2 0 2 2 2 2 2 0 1 1 1 1 2 2 0 1 1 0 2 2 0\n",
            " 1 1 2 2 1 1 0 0 0 1 1 2 2 2 1 0 1 2 2 1 1 0 1 1 2 2 2 2 1 0 2 1 0 2 0 0 1\n",
            " 1 0 0 0 2 1 0 0 1 0 1 0 0 0 1 0 1 1 2 2 2 2 0 0 2 2]\n"
          ]
        }
      ]
    },
    {
      "cell_type": "code",
      "source": [
        "import pandas as pd\n",
        "\n",
        "df = pd.DataFrame(X, columns=[\"X\", \"Y\"])\n",
        "df.head()\n"
      ],
      "metadata": {
        "colab": {
          "base_uri": "https://localhost:8080/",
          "height": 206
        },
        "id": "MmfU-j5dnr5T",
        "outputId": "87e743e9-1d92-4c1b-cd38-c8c6523278fa"
      },
      "execution_count": 2,
      "outputs": [
        {
          "output_type": "execute_result",
          "data": {
            "text/plain": [
              "          X         Y\n",
              "0  2.170586  0.856004\n",
              "1  0.797177  4.381168\n",
              "2  2.244718  0.866662\n",
              "3  0.653491  4.261239\n",
              "4  0.766559  4.019784"
            ],
            "text/html": [
              "\n",
              "  <div id=\"df-606f5611-c1ae-4223-8eac-08482c299af4\">\n",
              "    <div class=\"colab-df-container\">\n",
              "      <div>\n",
              "<style scoped>\n",
              "    .dataframe tbody tr th:only-of-type {\n",
              "        vertical-align: middle;\n",
              "    }\n",
              "\n",
              "    .dataframe tbody tr th {\n",
              "        vertical-align: top;\n",
              "    }\n",
              "\n",
              "    .dataframe thead th {\n",
              "        text-align: right;\n",
              "    }\n",
              "</style>\n",
              "<table border=\"1\" class=\"dataframe\">\n",
              "  <thead>\n",
              "    <tr style=\"text-align: right;\">\n",
              "      <th></th>\n",
              "      <th>X</th>\n",
              "      <th>Y</th>\n",
              "    </tr>\n",
              "  </thead>\n",
              "  <tbody>\n",
              "    <tr>\n",
              "      <th>0</th>\n",
              "      <td>2.170586</td>\n",
              "      <td>0.856004</td>\n",
              "    </tr>\n",
              "    <tr>\n",
              "      <th>1</th>\n",
              "      <td>0.797177</td>\n",
              "      <td>4.381168</td>\n",
              "    </tr>\n",
              "    <tr>\n",
              "      <th>2</th>\n",
              "      <td>2.244718</td>\n",
              "      <td>0.866662</td>\n",
              "    </tr>\n",
              "    <tr>\n",
              "      <th>3</th>\n",
              "      <td>0.653491</td>\n",
              "      <td>4.261239</td>\n",
              "    </tr>\n",
              "    <tr>\n",
              "      <th>4</th>\n",
              "      <td>0.766559</td>\n",
              "      <td>4.019784</td>\n",
              "    </tr>\n",
              "  </tbody>\n",
              "</table>\n",
              "</div>\n",
              "      <button class=\"colab-df-convert\" onclick=\"convertToInteractive('df-606f5611-c1ae-4223-8eac-08482c299af4')\"\n",
              "              title=\"Convert this dataframe to an interactive table.\"\n",
              "              style=\"display:none;\">\n",
              "        \n",
              "  <svg xmlns=\"http://www.w3.org/2000/svg\" height=\"24px\"viewBox=\"0 0 24 24\"\n",
              "       width=\"24px\">\n",
              "    <path d=\"M0 0h24v24H0V0z\" fill=\"none\"/>\n",
              "    <path d=\"M18.56 5.44l.94 2.06.94-2.06 2.06-.94-2.06-.94-.94-2.06-.94 2.06-2.06.94zm-11 1L8.5 8.5l.94-2.06 2.06-.94-2.06-.94L8.5 2.5l-.94 2.06-2.06.94zm10 10l.94 2.06.94-2.06 2.06-.94-2.06-.94-.94-2.06-.94 2.06-2.06.94z\"/><path d=\"M17.41 7.96l-1.37-1.37c-.4-.4-.92-.59-1.43-.59-.52 0-1.04.2-1.43.59L10.3 9.45l-7.72 7.72c-.78.78-.78 2.05 0 2.83L4 21.41c.39.39.9.59 1.41.59.51 0 1.02-.2 1.41-.59l7.78-7.78 2.81-2.81c.8-.78.8-2.07 0-2.86zM5.41 20L4 18.59l7.72-7.72 1.47 1.35L5.41 20z\"/>\n",
              "  </svg>\n",
              "      </button>\n",
              "      \n",
              "  <style>\n",
              "    .colab-df-container {\n",
              "      display:flex;\n",
              "      flex-wrap:wrap;\n",
              "      gap: 12px;\n",
              "    }\n",
              "\n",
              "    .colab-df-convert {\n",
              "      background-color: #E8F0FE;\n",
              "      border: none;\n",
              "      border-radius: 50%;\n",
              "      cursor: pointer;\n",
              "      display: none;\n",
              "      fill: #1967D2;\n",
              "      height: 32px;\n",
              "      padding: 0 0 0 0;\n",
              "      width: 32px;\n",
              "    }\n",
              "\n",
              "    .colab-df-convert:hover {\n",
              "      background-color: #E2EBFA;\n",
              "      box-shadow: 0px 1px 2px rgba(60, 64, 67, 0.3), 0px 1px 3px 1px rgba(60, 64, 67, 0.15);\n",
              "      fill: #174EA6;\n",
              "    }\n",
              "\n",
              "    [theme=dark] .colab-df-convert {\n",
              "      background-color: #3B4455;\n",
              "      fill: #D2E3FC;\n",
              "    }\n",
              "\n",
              "    [theme=dark] .colab-df-convert:hover {\n",
              "      background-color: #434B5C;\n",
              "      box-shadow: 0px 1px 3px 1px rgba(0, 0, 0, 0.15);\n",
              "      filter: drop-shadow(0px 1px 2px rgba(0, 0, 0, 0.3));\n",
              "      fill: #FFFFFF;\n",
              "    }\n",
              "  </style>\n",
              "\n",
              "      <script>\n",
              "        const buttonEl =\n",
              "          document.querySelector('#df-606f5611-c1ae-4223-8eac-08482c299af4 button.colab-df-convert');\n",
              "        buttonEl.style.display =\n",
              "          google.colab.kernel.accessAllowed ? 'block' : 'none';\n",
              "\n",
              "        async function convertToInteractive(key) {\n",
              "          const element = document.querySelector('#df-606f5611-c1ae-4223-8eac-08482c299af4');\n",
              "          const dataTable =\n",
              "            await google.colab.kernel.invokeFunction('convertToInteractive',\n",
              "                                                     [key], {});\n",
              "          if (!dataTable) return;\n",
              "\n",
              "          const docLinkHtml = 'Like what you see? Visit the ' +\n",
              "            '<a target=\"_blank\" href=https://colab.research.google.com/notebooks/data_table.ipynb>data table notebook</a>'\n",
              "            + ' to learn more about interactive tables.';\n",
              "          element.innerHTML = '';\n",
              "          dataTable['output_type'] = 'display_data';\n",
              "          await google.colab.output.renderOutput(dataTable, element);\n",
              "          const docLink = document.createElement('div');\n",
              "          docLink.innerHTML = docLinkHtml;\n",
              "          element.appendChild(docLink);\n",
              "        }\n",
              "      </script>\n",
              "    </div>\n",
              "  </div>\n",
              "  "
            ]
          },
          "metadata": {},
          "execution_count": 2
        }
      ]
    },
    {
      "cell_type": "code",
      "source": [
        "import matplotlib.pyplot as plt\n",
        "%matplotlib inline\n",
        "\n",
        "\n",
        "\n",
        "# Plot the data\n",
        "plt.figure(figsize=(6, 6))\n",
        "plt.scatter( df[\"X\"], df[\"Y\"])\n",
        "plt.xlabel('X-axis')\n",
        "plt.ylabel('Y-axis')\n",
        "plt.title('Visualization of raw data');"
      ],
      "metadata": {
        "colab": {
          "base_uri": "https://localhost:8080/",
          "height": 404
        },
        "id": "L8zEwcIRnuv7",
        "outputId": "59e9c6dd-bb4d-41e8-db14-b08948b2e3f0"
      },
      "execution_count": 3,
      "outputs": [
        {
          "output_type": "display_data",
          "data": {
            "text/plain": [
              "<Figure size 432x432 with 1 Axes>"
            ],
            "image/png": "[encoded data removed]"
          },
          "metadata": {
            "needs_background": "light"
          }
        }
      ]
    },
    {
      "cell_type": "code",
      "source": [
        "from sklearn.cluster import KMeans\n",
        "\n",
        "kmeans = KMeans(n_clusters=3, random_state=0).fit(X)\n"
      ],
      "metadata": {
        "colab": {
          "base_uri": "https://localhost:8080/"
        },
        "id": "UjJpkM_knzB8",
        "outputId": "1dcf942d-4ea5-4c76-fad6-a5be92def67f"
      },
      "execution_count": 4,
      "outputs": [
        {
          "output_type": "stream",
          "name": "stderr",
          "text": [
            "/usr/local/lib/python3.9/dist-packages/sklearn/cluster/_kmeans.py:870: FutureWarning: The default value of `n_init` will change from 10 to 'auto' in 1.4. Set the value of `n_init` explicitly to suppress the warning\n",
            "  warnings.warn(\n"
          ]
        }
      ]
    },
    {
      "cell_type": "code",
      "source": [
        "kmeans.labels_\n"
      ],
      "metadata": {
        "colab": {
          "base_uri": "https://localhost:8080/"
        },
        "id": "CH_kNoMOn1ds",
        "outputId": "d34dd033-a022-413d-dc39-dccaf77cc551"
      },
      "execution_count": 5,
      "outputs": [
        {
          "output_type": "execute_result",
          "data": {
            "text/plain": [
              "array([1, 0, 1, 0, 0, 0, 2, 2, 1, 0, 0, 0, 1, 0, 2, 1, 2, 0, 2, 2, 2, 2,\n",
              "       2, 0, 1, 1, 1, 1, 2, 2, 0, 1, 1, 0, 2, 2, 0, 1, 1, 2, 2, 1, 1, 0,\n",
              "       0, 0, 1, 1, 2, 2, 2, 1, 0, 1, 2, 2, 1, 1, 0, 1, 1, 2, 2, 2, 2, 1,\n",
              "       0, 2, 1, 0, 2, 0, 0, 1, 1, 0, 0, 0, 2, 1, 0, 0, 1, 0, 1, 0, 0, 0,\n",
              "       1, 0, 1, 1, 2, 2, 2, 2, 0, 0, 2, 2], dtype=int32)"
            ]
          },
          "metadata": {},
          "execution_count": 5
        }
      ]
    },
    {
      "cell_type": "code",
      "source": [
        "# kmeans.predict([[0, 0], [12, 3]])\n",
        "kmeans.cluster_centers_"
      ],
      "metadata": {
        "colab": {
          "base_uri": "https://localhost:8080/"
        },
        "id": "jwfTMN_kn4m6",
        "outputId": "17b72d5c-1e37-407e-adb9-9af0fbe3deeb"
      },
      "execution_count": 6,
      "outputs": [
        {
          "output_type": "execute_result",
          "data": {
            "text/plain": [
              "array([[ 0.95164831,  4.28882085],\n",
              "       [ 2.0720792 ,  0.98848385],\n",
              "       [-1.538563  ,  2.91165191]])"
            ]
          },
          "metadata": {},
          "execution_count": 6
        }
      ]
    },
    {
      "cell_type": "code",
      "source": [
        "# add column to the df\n",
        "\n",
        "df[\"labels\"] = kmeans.labels_\n",
        "df.head()"
      ],
      "metadata": {
        "colab": {
          "base_uri": "https://localhost:8080/",
          "height": 206
        },
        "id": "6r9-qSc7n5-H",
        "outputId": "8274ea25-8d4b-4484-b2e4-dd1cfda81349"
      },
      "execution_count": 7,
      "outputs": [
        {
          "output_type": "execute_result",
          "data": {
            "text/plain": [
              "          X         Y  labels\n",
              "0  2.170586  0.856004       1\n",
              "1  0.797177  4.381168       0\n",
              "2  2.244718  0.866662       1\n",
              "3  0.653491  4.261239       0\n",
              "4  0.766559  4.019784       0"
            ],
            "text/html": [
              "\n",
              "  <div id=\"df-d16689eb-8bdb-46a6-8848-5cfe0d17488b\">\n",
              "    <div class=\"colab-df-container\">\n",
              "      <div>\n",
              "<style scoped>\n",
              "    .dataframe tbody tr th:only-of-type {\n",
              "        vertical-align: middle;\n",
              "    }\n",
              "\n",
              "    .dataframe tbody tr th {\n",
              "        vertical-align: top;\n",
              "    }\n",
              "\n",
              "    .dataframe thead th {\n",
              "        text-align: right;\n",
              "    }\n",
              "</style>\n",
              "<table border=\"1\" class=\"dataframe\">\n",
              "  <thead>\n",
              "    <tr style=\"text-align: right;\">\n",
              "      <th></th>\n",
              "      <th>X</th>\n",
              "      <th>Y</th>\n",
              "      <th>labels</th>\n",
              "    </tr>\n",
              "  </thead>\n",
              "  <tbody>\n",
              "    <tr>\n",
              "      <th>0</th>\n",
              "      <td>2.170586</td>\n",
              "      <td>0.856004</td>\n",
              "      <td>1</td>\n",
              "    </tr>\n",
              "    <tr>\n",
              "      <th>1</th>\n",
              "      <td>0.797177</td>\n",
              "      <td>4.381168</td>\n",
              "      <td>0</td>\n",
              "    </tr>\n",
              "    <tr>\n",
              "      <th>2</th>\n",
              "      <td>2.244718</td>\n",
              "      <td>0.866662</td>\n",
              "      <td>1</td>\n",
              "    </tr>\n",
              "    <tr>\n",
              "      <th>3</th>\n",
              "      <td>0.653491</td>\n",
              "      <td>4.261239</td>\n",
              "      <td>0</td>\n",
              "    </tr>\n",
              "    <tr>\n",
              "      <th>4</th>\n",
              "      <td>0.766559</td>\n",
              "      <td>4.019784</td>\n",
              "      <td>0</td>\n",
              "    </tr>\n",
              "  </tbody>\n",
              "</table>\n",
              "</div>\n",
              "      <button class=\"colab-df-convert\" onclick=\"convertToInteractive('df-d16689eb-8bdb-46a6-8848-5cfe0d17488b')\"\n",
              "              title=\"Convert this dataframe to an interactive table.\"\n",
              "              style=\"display:none;\">\n",
              "        \n",
              "  <svg xmlns=\"http://www.w3.org/2000/svg\" height=\"24px\"viewBox=\"0 0 24 24\"\n",
              "       width=\"24px\">\n",
              "    <path d=\"M0 0h24v24H0V0z\" fill=\"none\"/>\n",
              "    <path d=\"M18.56 5.44l.94 2.06.94-2.06 2.06-.94-2.06-.94-.94-2.06-.94 2.06-2.06.94zm-11 1L8.5 8.5l.94-2.06 2.06-.94-2.06-.94L8.5 2.5l-.94 2.06-2.06.94zm10 10l.94 2.06.94-2.06 2.06-.94-2.06-.94-.94-2.06-.94 2.06-2.06.94z\"/><path d=\"M17.41 7.96l-1.37-1.37c-.4-.4-.92-.59-1.43-.59-.52 0-1.04.2-1.43.59L10.3 9.45l-7.72 7.72c-.78.78-.78 2.05 0 2.83L4 21.41c.39.39.9.59 1.41.59.51 0 1.02-.2 1.41-.59l7.78-7.78 2.81-2.81c.8-.78.8-2.07 0-2.86zM5.41 20L4 18.59l7.72-7.72 1.47 1.35L5.41 20z\"/>\n",
              "  </svg>\n",
              "      </button>\n",
              "      \n",
              "  <style>\n",
              "    .colab-df-container {\n",
              "      display:flex;\n",
              "      flex-wrap:wrap;\n",
              "      gap: 12px;\n",
              "    }\n",
              "\n",
              "    .colab-df-convert {\n",
              "      background-color: #E8F0FE;\n",
              "      border: none;\n",
              "      border-radius: 50%;\n",
              "      cursor: pointer;\n",
              "      display: none;\n",
              "      fill: #1967D2;\n",
              "      height: 32px;\n",
              "      padding: 0 0 0 0;\n",
              "      width: 32px;\n",
              "    }\n",
              "\n",
              "    .colab-df-convert:hover {\n",
              "      background-color: #E2EBFA;\n",
              "      box-shadow: 0px 1px 2px rgba(60, 64, 67, 0.3), 0px 1px 3px 1px rgba(60, 64, 67, 0.15);\n",
              "      fill: #174EA6;\n",
              "    }\n",
              "\n",
              "    [theme=dark] .colab-df-convert {\n",
              "      background-color: #3B4455;\n",
              "      fill: #D2E3FC;\n",
              "    }\n",
              "\n",
              "    [theme=dark] .colab-df-convert:hover {\n",
              "      background-color: #434B5C;\n",
              "      box-shadow: 0px 1px 3px 1px rgba(0, 0, 0, 0.15);\n",
              "      filter: drop-shadow(0px 1px 2px rgba(0, 0, 0, 0.3));\n",
              "      fill: #FFFFFF;\n",
              "    }\n",
              "  </style>\n",
              "\n",
              "      <script>\n",
              "        const buttonEl =\n",
              "          document.querySelector('#df-d16689eb-8bdb-46a6-8848-5cfe0d17488b button.colab-df-convert');\n",
              "        buttonEl.style.display =\n",
              "          google.colab.kernel.accessAllowed ? 'block' : 'none';\n",
              "\n",
              "        async function convertToInteractive(key) {\n",
              "          const element = document.querySelector('#df-d16689eb-8bdb-46a6-8848-5cfe0d17488b');\n",
              "          const dataTable =\n",
              "            await google.colab.kernel.invokeFunction('convertToInteractive',\n",
              "                                                     [key], {});\n",
              "          if (!dataTable) return;\n",
              "\n",
              "          const docLinkHtml = 'Like what you see? Visit the ' +\n",
              "            '<a target=\"_blank\" href=https://colab.research.google.com/notebooks/data_table.ipynb>data table notebook</a>'\n",
              "            + ' to learn more about interactive tables.';\n",
              "          element.innerHTML = '';\n",
              "          dataTable['output_type'] = 'display_data';\n",
              "          await google.colab.output.renderOutput(dataTable, element);\n",
              "          const docLink = document.createElement('div');\n",
              "          docLink.innerHTML = docLinkHtml;\n",
              "          element.appendChild(docLink);\n",
              "        }\n",
              "      </script>\n",
              "    </div>\n",
              "  </div>\n",
              "  "
            ]
          },
          "metadata": {},
          "execution_count": 7
        }
      ]
    },
    {
      "cell_type": "code",
      "source": [
        "# plotting cluster data\n",
        "\n",
        "# Plot the clustered data\n",
        "fig, ax = plt.subplots(figsize=(6, 6))\n",
        "plt.scatter(df[\"X\"][df[\"labels\"] == 0] , df[\"Y\"][df[\"labels\"] == 0],\n",
        "            c='green', label='cluster 1')\n",
        "plt.scatter(df[\"X\"][df[\"labels\"] == 1] , df[\"Y\"][df[\"labels\"] == 1],\n",
        "            c='red', label='cluster 2')\n",
        "plt.scatter(df[\"X\"][df[\"labels\"] == 2] , df[\"Y\"][df[\"labels\"] == 2],\n",
        "            c='yellow', label='cluster 3')"
      ],
      "metadata": {
        "colab": {
          "base_uri": "https://localhost:8080/",
          "height": 392
        },
        "id": "qfUMFnb5n7Vk",
        "outputId": "d0bc5b67-4dd7-475b-bf1e-2281d443e3ac"
      },
      "execution_count": 8,
      "outputs": [
        {
          "output_type": "execute_result",
          "data": {
            "text/plain": [
              "<matplotlib.collections.PathCollection at 0x7f4ec5d2e850>"
            ]
          },
          "metadata": {},
          "execution_count": 8
        },
        {
          "output_type": "display_data",
          "data": {
            "text/plain": [
              "<Figure size 432x432 with 1 Axes>"
            ],
            "image/png": "[encoded data removed]"
          },
          "metadata": {
            "needs_background": "light"
          }
        }
      ]
    },
    {
      "cell_type": "code",
      "source": [
        "from sklearn.metrics import silhouette_score\n",
        "\n",
        "silhouette_score = silhouette_score(X, kmeans.labels_, metric='euclidean')\n",
        "print(silhouette_score)"
      ],
      "metadata": {
        "colab": {
          "base_uri": "https://localhost:8080/"
        },
        "id": "UzleYhq6n94G",
        "outputId": "57c2bcb3-b355-4e80-9364-8983eed63548"
      },
      "execution_count": 9,
      "outputs": [
        {
          "output_type": "stream",
          "name": "stdout",
          "text": [
            "0.8816040239688525\n"
          ]
        }
      ]
    },
    {
      "cell_type": "markdown",
      "source": [
        "#Handwritten digit dataset"
      ],
      "metadata": {
        "id": "2mNSVjn8oDWP"
      }
    },
    {
      "cell_type": "code",
      "source": [
        "import numpy as np\n",
        "import pandas as pd\n",
        "from sklearn.cluster import KMeans\n",
        "from sklearn.datasets import load_digits\n",
        "import matplotlib.pyplot as plt\n",
        "import seaborn as sns\n",
        "from scipy.stats import mode\n",
        "from sklearn.metrics import accuracy_score, confusion_matrix, precision_score, recall_score"
      ],
      "metadata": {
        "id": "OJysvtnAoOaz"
      },
      "execution_count": 12,
      "outputs": []
    },
    {
      "cell_type": "code",
      "source": [
        "digits = load_digits()"
      ],
      "metadata": {
        "id": "LYiRtOSvoQRR"
      },
      "execution_count": 13,
      "outputs": []
    },
    {
      "cell_type": "code",
      "source": [
        "print(digits.data, len(digits.data))\n",
        "print()\n",
        "print(digits.target, len(digits.target))"
      ],
      "metadata": {
        "colab": {
          "base_uri": "https://localhost:8080/"
        },
        "id": "YCq-i9-HoSLB",
        "outputId": "accbaa1e-1d87-4273-b23a-a52859e6072f"
      },
      "execution_count": 14,
      "outputs": [
        {
          "output_type": "stream",
          "name": "stdout",
          "text": [
            "[[ 0.  0.  5. ...  0.  0.  0.]\n",
            " [ 0.  0.  0. ... 10.  0.  0.]\n",
            " [ 0.  0.  0. ... 16.  9.  0.]\n",
            " ...\n",
            " [ 0.  0.  1. ...  6.  0.  0.]\n",
            " [ 0.  0.  2. ... 12.  0.  0.]\n",
            " [ 0.  0. 10. ... 12.  1.  0.]] 1797\n",
            "\n",
            "[0 1 2 ... 8 9 8] 1797\n"
          ]
        }
      ]
    },
    {
      "cell_type": "code",
      "source": [
        "\n",
        "kmeans = KMeans(n_clusters=10,random_state=0)"
      ],
      "metadata": {
        "id": "tL0ZAa4ZoUqq"
      },
      "execution_count": 15,
      "outputs": []
    },
    {
      "cell_type": "code",
      "source": [
        "clusters = kmeans.fit_predict(digits.data)"
      ],
      "metadata": {
        "colab": {
          "base_uri": "https://localhost:8080/"
        },
        "id": "l_za7Px_oVrv",
        "outputId": "373437f6-668c-4f03-db47-ff3597dd83a1"
      },
      "execution_count": 16,
      "outputs": [
        {
          "output_type": "stream",
          "name": "stderr",
          "text": [
            "/usr/local/lib/python3.9/dist-packages/sklearn/cluster/_kmeans.py:870: FutureWarning: The default value of `n_init` will change from 10 to 'auto' in 1.4. Set the value of `n_init` explicitly to suppress the warning\n",
            "  warnings.warn(\n"
          ]
        }
      ]
    },
    {
      "cell_type": "code",
      "source": [
        "fig, ax = plt.subplots(2, 5, figsize = (8,3)) #Create a figure and a set of subplots( 2 rows and 5 columns)\n",
        "centers = kmeans.cluster_centers_.reshape(10,8,8)\n",
        "\n",
        "for axi, center in zip(ax.flat, centers):\n",
        "    axi.set(xticks = [], yticks = [])\n",
        "    axi.imshow(center, interpolation='nearest',cmap = plt.cm.binary)"
      ],
      "metadata": {
        "colab": {
          "base_uri": "https://localhost:8080/",
          "height": 194
        },
        "id": "9Pqeea_uoWtQ",
        "outputId": "f0ca3a0a-7ffe-40c3-82a7-8b0328fecaf8"
      },
      "execution_count": 17,
      "outputs": [
        {
          "output_type": "display_data",
          "data": {
            "text/plain": [
              "<Figure size 576x216 with 10 Axes>"
            ],
            "image/png": "[encoded data removed]"
          },
          "metadata": {}
        }
      ]
    },
    {
      "cell_type": "code",
      "source": [
        "fig, ax = plt.subplots(2, 5, figsize = (8,3)) #Create a figure and a set of subplots( 2 rows and 5 columns)\n",
        "centers = kmeans.cluster_centers_.reshape(10,8,8)\n",
        "\n",
        "for axi, center in zip(ax.flat, centers):\n",
        "    axi.set(xticks = [], yticks = [])\n",
        "    axi.imshow(center, interpolation='nearest',cmap = plt.cm.binary)"
      ],
      "metadata": {
        "colab": {
          "base_uri": "https://localhost:8080/",
          "height": 194
        },
        "id": "Eaf0ih0BoYEQ",
        "outputId": "fc68828b-e698-4fae-e9a5-cf1d1881938d"
      },
      "execution_count": 18,
      "outputs": [
        {
          "output_type": "display_data",
          "data": {
            "text/plain": [
              "<Figure size 576x216 with 10 Axes>"
            ],
            "image/png": "[encoded data removed]"
          },
          "metadata": {}
        }
      ]
    },
    {
      "cell_type": "code",
      "source": [
        "kmeans.cluster_centers_"
      ],
      "metadata": {
        "colab": {
          "base_uri": "https://localhost:8080/"
        },
        "id": "mmjXORapoZZw",
        "outputId": "f33d26f6-ac34-4866-9a44-2bd1e6c70a7a"
      },
      "execution_count": 19,
      "outputs": [
        {
          "output_type": "execute_result",
          "data": {
            "text/plain": [
              "array([[ 0.00000000e+00,  2.22044605e-16,  3.07228916e-01,\n",
              "         7.16265060e+00,  1.19457831e+01,  1.93373494e+00,\n",
              "         1.50602410e-01,  5.42168675e-02,  1.73472348e-18,\n",
              "         1.20481928e-02,  3.28313253e+00,  1.37951807e+01,\n",
              "         8.46385542e+00,  1.53012048e+00,  9.75903614e-01,\n",
              "         2.77108434e-01,  8.67361738e-19,  6.44578313e-01,\n",
              "         1.07108434e+01,  1.15602410e+01,  4.33734940e+00,\n",
              "         5.25903614e+00,  3.87349398e+00,  3.25301205e-01,\n",
              "         6.02409639e-03,  4.75903614e+00,  1.47590361e+01,\n",
              "         5.86144578e+00,  6.87951807e+00,  1.07530120e+01,\n",
              "         6.21686747e+00,  1.80722892e-02,  0.00000000e+00,\n",
              "         8.92771084e+00,  1.48072289e+01,  9.35542169e+00,\n",
              "         1.28132530e+01,  1.43915663e+01,  5.48192771e+00,\n",
              "         0.00000000e+00,  9.63855422e-02,  6.50602410e+00,\n",
              "         1.16867470e+01,  1.23433735e+01,  1.48373494e+01,\n",
              "         1.07590361e+01,  1.56626506e+00,  0.00000000e+00,\n",
              "         6.02409639e-02,  1.11445783e+00,  3.00000000e+00,\n",
              "         7.77710843e+00,  1.40843373e+01,  4.13253012e+00,\n",
              "         1.80722892e-02,  1.11022302e-16, -5.42101086e-19,\n",
              "         2.40963855e-02,  3.73493976e-01,  7.96385542e+00,\n",
              "         1.23253012e+01,  1.77108434e+00, -1.77635684e-15,\n",
              "        -2.77555756e-16],\n",
              "       [ 0.00000000e+00,  5.96590909e-01,  8.71590909e+00,\n",
              "         1.46306818e+01,  1.40454545e+01,  7.00568182e+00,\n",
              "         5.45454545e-01, -5.55111512e-17,  1.13636364e-02,\n",
              "         4.20454545e+00,  1.26022727e+01,  9.07386364e+00,\n",
              "         1.12386364e+01,  1.19602273e+01,  1.84659091e+00,\n",
              "         1.13636364e-02,  5.68181818e-03,  1.85795455e+00,\n",
              "         3.53977273e+00,  3.47159091e+00,  1.17897727e+01,\n",
              "         9.92613636e+00,  8.57954545e-01,  9.71445147e-17,\n",
              "        -1.08420217e-18,  3.97727273e-02,  9.09090909e-01,\n",
              "         8.30681818e+00,  1.38295455e+01,  6.76704545e+00,\n",
              "         3.06818182e-01, -2.16840434e-18,  0.00000000e+00,\n",
              "         6.25000000e-02,  6.81818182e-01,  4.60227273e+00,\n",
              "         1.17613636e+01,  1.23125000e+01,  2.32954545e+00,\n",
              "         0.00000000e+00, -8.67361738e-18,  4.54545455e-01,\n",
              "         1.44318182e+00,  6.93181818e-01,  4.17613636e+00,\n",
              "         1.23693182e+01,  6.36363636e+00,  5.68181818e-03,\n",
              "        -3.46944695e-18,  9.26136364e-01,  7.28409091e+00,\n",
              "         6.59090909e+00,  8.59659091e+00,  1.37215909e+01,\n",
              "         6.09090909e+00,  1.76136364e-01, -5.42101086e-19,\n",
              "         4.77272727e-01,  9.52840909e+00,  1.49829545e+01,\n",
              "         1.41420455e+01,  8.88068182e+00,  1.85227273e+00,\n",
              "         4.20454545e-01],\n",
              "       [ 0.00000000e+00,  1.10738255e+00,  1.00268456e+01,\n",
              "         1.34093960e+01,  1.41610738e+01,  1.25369128e+01,\n",
              "         4.37583893e+00,  4.02684564e-02,  6.71140940e-03,\n",
              "         4.55704698e+00,  1.49328859e+01,  1.25637584e+01,\n",
              "         8.70469799e+00,  7.03355705e+00,  2.47651007e+00,\n",
              "         3.35570470e-02,  1.34228188e-02,  6.07382550e+00,\n",
              "         1.45302013e+01,  5.95302013e+00,  1.97315436e+00,\n",
              "         1.02684564e+00,  2.01342282e-01,  9.02056208e-17,\n",
              "         6.71140940e-03,  5.30201342e+00,  1.43355705e+01,\n",
              "         1.23624161e+01,  7.85906040e+00,  2.26174497e+00,\n",
              "         1.47651007e-01, -8.67361738e-19,  0.00000000e+00,\n",
              "         1.94630872e+00,  8.15436242e+00,  1.00939597e+01,\n",
              "         1.02684564e+01,  5.51006711e+00,  6.37583893e-01,\n",
              "         0.00000000e+00, -3.46944695e-18,  3.02013423e-01,\n",
              "         1.39597315e+00,  4.87248322e+00,  9.87248322e+00,\n",
              "         7.02013423e+00,  7.78523490e-01,  1.73472348e-17,\n",
              "         4.33680869e-18,  8.05369128e-01,  5.06040268e+00,\n",
              "         9.47651007e+00,  1.21275168e+01,  5.27516779e+00,\n",
              "         4.42953020e-01,  2.22044605e-16, -2.16840434e-19,\n",
              "         1.05369128e+00,  1.08926174e+01,  1.45369128e+01,\n",
              "         7.83892617e+00,  1.08724832e+00,  2.01342282e-02,\n",
              "        -2.22044605e-16],\n",
              "       [ 0.00000000e+00,  1.96000000e-01,  6.47600000e+00,\n",
              "         1.24800000e+01,  1.18560000e+01,  5.69600000e+00,\n",
              "         6.84000000e-01,  8.00000000e-03,  4.00000000e-03,\n",
              "         2.59200000e+00,  1.39640000e+01,  9.25200000e+00,\n",
              "         9.44000000e+00,  1.04560000e+01,  1.33600000e+00,\n",
              "         4.00000000e-03, -6.50521303e-18,  4.28000000e+00,\n",
              "         1.28560000e+01,  4.50800000e+00,  6.89200000e+00,\n",
              "         1.11400000e+01,  1.90400000e+00,  1.31838984e-16,\n",
              "        -2.16840434e-18,  2.31200000e+00,  1.03960000e+01,\n",
              "         1.17840000e+01,  1.31640000e+01,  1.20560000e+01,\n",
              "         2.45600000e+00, -4.33680869e-18,  0.00000000e+00,\n",
              "         3.00000000e-01,  3.17200000e+00,  6.17200000e+00,\n",
              "         6.84000000e+00,  1.12400000e+01,  4.23200000e+00,\n",
              "         0.00000000e+00, -1.73472348e-17,  2.28000000e-01,\n",
              "         2.37200000e+00,  1.98400000e+00,  1.76000000e+00,\n",
              "         1.10040000e+01,  6.37600000e+00,  1.60000000e-02,\n",
              "        -1.47451495e-17,  7.60000000e-01,  8.10400000e+00,\n",
              "         5.66400000e+00,  4.76400000e+00,  1.22440000e+01,\n",
              "         5.97600000e+00,  1.12000000e-01, -1.08420217e-18,\n",
              "         1.68000000e-01,  6.38800000e+00,  1.34680000e+01,\n",
              "         1.44960000e+01,  9.94800000e+00,  2.30000000e+00,\n",
              "         1.12000000e-01],\n",
              "       [ 0.00000000e+00,  1.60194175e-01,  4.88834951e+00,\n",
              "         1.28689320e+01,  1.40631068e+01,  1.09805825e+01,\n",
              "         4.98543689e+00,  9.41747573e-01, -4.33680869e-18,\n",
              "         1.12135922e+00,  1.06553398e+01,  1.15145631e+01,\n",
              "         1.04320388e+01,  1.25825243e+01,  5.52427184e+00,\n",
              "         5.38834951e-01, -2.16840434e-18,  1.17961165e+00,\n",
              "         5.45145631e+00,  2.30097087e+00,  6.78640777e+00,\n",
              "         1.15339806e+01,  3.42233010e+00,  1.11650485e-01,\n",
              "        -1.51788304e-18,  9.75728155e-01,  5.04368932e+00,\n",
              "         6.50000000e+00,  1.21553398e+01,  1.21067961e+01,\n",
              "         4.79611650e+00,  4.85436893e-03,  0.00000000e+00,\n",
              "         1.44660194e+00,  8.63592233e+00,  1.30679612e+01,\n",
              "         1.46796117e+01,  1.06893204e+01,  3.93203883e+00,\n",
              "         0.00000000e+00, -1.21430643e-17,  1.08252427e+00,\n",
              "         5.10194175e+00,  1.14611650e+01,  1.10388350e+01,\n",
              "         3.73300971e+00,  5.38834951e-01, -3.46944695e-17,\n",
              "        -8.67361738e-18,  1.01941748e-01,  2.98058252e+00,\n",
              "         1.22572816e+01,  6.39805825e+00,  4.56310680e-01,\n",
              "         9.70873786e-03, -5.55111512e-17, -7.58941521e-19,\n",
              "         1.26213592e-01,  6.09223301e+00,  1.19660194e+01,\n",
              "         2.70388350e+00,  2.86407767e-01,  3.39805825e-02,\n",
              "        -3.88578059e-16],\n",
              "       [ 0.00000000e+00,  2.23463687e-02,  4.22905028e+00,\n",
              "         1.31396648e+01,  1.12681564e+01,  2.93854749e+00,\n",
              "         3.35195531e-02, -5.55111512e-17, -1.73472348e-18,\n",
              "         8.82681564e-01,  1.26201117e+01,  1.33687151e+01,\n",
              "         1.14078212e+01,  1.13687151e+01,  9.60893855e-01,\n",
              "         2.77555756e-17, -8.67361738e-19,  3.72625698e+00,\n",
              "         1.42122905e+01,  5.25139665e+00,  2.10614525e+00,\n",
              "         1.21173184e+01,  3.53072626e+00,  1.04083409e-16,\n",
              "        -1.30104261e-18,  5.29608939e+00,  1.26424581e+01,\n",
              "         2.03351955e+00,  2.29050279e-01,  9.07821229e+00,\n",
              "         6.47486034e+00, -2.60208521e-18,  0.00000000e+00,\n",
              "         5.88268156e+00,  1.14916201e+01,  8.65921788e-01,\n",
              "         3.35195531e-02,  8.81005587e+00,  7.15083799e+00,\n",
              "         0.00000000e+00, -1.04083409e-17,  3.51396648e+00,\n",
              "         1.32849162e+01,  1.65921788e+00,  1.49162011e+00,\n",
              "         1.13519553e+01,  5.84357542e+00, -1.04083409e-17,\n",
              "        -4.33680869e-18,  8.04469274e-01,  1.31117318e+01,\n",
              "         9.96089385e+00,  1.03519553e+01,  1.32960894e+01,\n",
              "         2.47486034e+00,  2.23463687e-02, -6.50521303e-19,\n",
              "         5.58659218e-03,  4.19553073e+00,  1.35865922e+01,\n",
              "         1.33407821e+01,  5.48044693e+00,  3.18435754e-01,\n",
              "         1.67597765e-02],\n",
              "       [ 0.00000000e+00,  1.66533454e-16,  3.33333333e-02,\n",
              "         1.68888889e+00,  1.10333333e+01,  1.25000000e+01,\n",
              "         4.14444444e+00,  2.44444444e-01,  1.73472348e-18,\n",
              "         5.55555556e-02,  1.87777778e+00,  8.85555556e+00,\n",
              "         1.39333333e+01,  1.23888889e+01,  5.10000000e+00,\n",
              "         3.22222222e-01,  8.67361738e-19,  1.62222222e+00,\n",
              "         8.74444444e+00,  1.27555556e+01,  1.23000000e+01,\n",
              "         1.29111111e+01,  3.82222222e+00,  1.44444444e-01,\n",
              "         2.16840434e-19,  3.62222222e+00,  1.21222222e+01,\n",
              "         1.19111111e+01,  1.31222222e+01,  1.35000000e+01,\n",
              "         2.50000000e+00,  4.33680869e-19,  0.00000000e+00,\n",
              "         1.92222222e+00,  6.85555556e+00,  7.23333333e+00,\n",
              "         1.16777778e+01,  1.25666667e+01,  1.84444444e+00,\n",
              "         0.00000000e+00,  1.73472348e-18,  8.11111111e-01,\n",
              "         1.97777778e+00,  3.76666667e+00,  1.16666667e+01,\n",
              "         1.18666667e+01,  1.21111111e+00,  1.38777878e-17,\n",
              "         5.20417043e-18,  6.66666667e-02,  3.22222222e-01,\n",
              "         2.91111111e+00,  1.24777778e+01,  1.17111111e+01,\n",
              "         1.67777778e+00,  5.55111512e-17,  1.08420217e-19,\n",
              "         2.77555756e-16,  2.66453526e-15,  1.76666667e+00,\n",
              "         1.12888889e+01,  1.07666667e+01,  1.74444444e+00,\n",
              "        -5.55111512e-17],\n",
              "       [ 0.00000000e+00,  1.11607143e-01,  3.99107143e+00,\n",
              "         1.18839286e+01,  1.23214286e+01,  5.36160714e+00,\n",
              "         4.33035714e-01, -1.38777878e-16,  8.92857143e-03,\n",
              "         8.57142857e-01,  8.24553571e+00,  1.35446429e+01,\n",
              "         1.25625000e+01,  9.87500000e+00,  1.56696429e+00,\n",
              "         1.66533454e-16, -3.90312782e-18,  1.21428571e+00,\n",
              "         8.37053571e+00,  1.18839286e+01,  1.23348214e+01,\n",
              "         9.46428571e+00,  1.02678571e+00,  1.24900090e-16,\n",
              "        -1.95156391e-18,  9.41964286e-01,  7.26339286e+00,\n",
              "         1.40848214e+01,  1.41785714e+01,  4.95535714e+00,\n",
              "         2.00892857e-01, -3.90312782e-18,  0.00000000e+00,\n",
              "         7.67857143e-01,  8.00446429e+00,  1.47812500e+01,\n",
              "         1.29107143e+01,  2.18750000e+00,  1.78571429e-02,\n",
              "         0.00000000e+00, -1.56125113e-17,  1.22767857e+00,\n",
              "         1.04553571e+01,  1.20178571e+01,  1.21294643e+01,\n",
              "         4.02678571e+00,  2.00892857e-01, -4.85722573e-17,\n",
              "         1.33928571e-02,  8.75000000e-01,  9.57142857e+00,\n",
              "         1.15714286e+01,  1.20758929e+01,  5.57589286e+00,\n",
              "         6.16071429e-01,  4.46428571e-03,  4.46428571e-03,\n",
              "         1.11607143e-01,  4.20089286e+00,  1.20089286e+01,\n",
              "         1.25982143e+01,  4.85714286e+00,  8.08035714e-01,\n",
              "         8.92857143e-03],\n",
              "       [ 0.00000000e+00,  9.42857143e-01,  1.01885714e+01,\n",
              "         1.44400000e+01,  7.77142857e+00,  9.82857143e-01,\n",
              "        -1.33226763e-15, -2.77555756e-17,  2.28571429e-02,\n",
              "         5.24000000e+00,  1.37200000e+01,  1.26228571e+01,\n",
              "         1.16914286e+01,  3.23428571e+00,  1.71428571e-02,\n",
              "         6.93889390e-17,  1.14285714e-02,  4.56000000e+00,\n",
              "         8.11428571e+00,  6.13714286e+00,  1.21600000e+01,\n",
              "         3.56000000e+00,  1.71428571e-02,  1.04083409e-16,\n",
              "        -1.08420217e-18,  9.65714286e-01,  2.81714286e+00,\n",
              "         7.00571429e+00,  1.25371429e+01,  2.56000000e+00,\n",
              "         4.00000000e-02, -2.16840434e-18,  0.00000000e+00,\n",
              "         4.57142857e-02,  1.57142857e+00,  9.89714286e+00,\n",
              "         1.06971429e+01,  1.45142857e+00, -4.44089210e-15,\n",
              "         0.00000000e+00, -8.67361738e-18,  2.51428571e-01,\n",
              "         4.45714286e+00,  1.12457143e+01,  7.74285714e+00,\n",
              "         2.37142857e+00,  8.45714286e-01,  1.14285714e-02,\n",
              "        -6.07153217e-18,  1.19428571e+00,  1.09942857e+01,\n",
              "         1.37314286e+01,  1.19257143e+01,  1.11600000e+01,\n",
              "         7.66857143e+00,  1.10285714e+00, -5.42101086e-19,\n",
              "         9.31428571e-01,  1.03885714e+01,  1.44685714e+01,\n",
              "         1.35028571e+01,  1.23542857e+01,  8.96571429e+00,\n",
              "         2.95428571e+00],\n",
              "       [ 0.00000000e+00,  2.22044605e-16,  1.15934066e+00,\n",
              "         1.12252747e+01,  9.53296703e+00,  1.41758242e+00,\n",
              "         5.49450549e-03, -5.55111512e-17, -2.60208521e-18,\n",
              "         6.04395604e-02,  7.18131868e+00,  1.45604396e+01,\n",
              "         6.19230769e+00,  8.29670330e-01,  2.74725275e-02,\n",
              "         2.77555756e-17, -1.30104261e-18,  7.69230769e-01,\n",
              "         1.24560440e+01,  9.47252747e+00,  9.34065934e-01,\n",
              "         1.09890110e-01,  0.00000000e+00,  9.71445147e-17,\n",
              "        -1.30104261e-18,  2.29670330e+00,  1.36208791e+01,\n",
              "         8.09340659e+00,  3.87362637e+00,  1.92857143e+00,\n",
              "         1.04395604e-01, -2.60208521e-18,  0.00000000e+00,\n",
              "         3.52747253e+00,  1.46758242e+01,  1.29175824e+01,\n",
              "         1.22527473e+01,  1.02857143e+01,  2.71978022e+00,\n",
              "         0.00000000e+00, -1.04083409e-17,  1.86813187e+00,\n",
              "         1.45164835e+01,  1.06538462e+01,  5.57692308e+00,\n",
              "         1.01923077e+01,  9.13186813e+00,  2.30769231e-01,\n",
              "        -5.20417043e-18,  1.75824176e-01,  1.02857143e+01,\n",
              "         1.26263736e+01,  5.41758242e+00,  1.13241758e+01,\n",
              "         1.08956044e+01,  6.26373626e-01, -6.50521303e-19,\n",
              "         5.55111512e-16,  1.44505495e+00,  1.07362637e+01,\n",
              "         1.50989011e+01,  1.31318681e+01,  4.62087912e+00,\n",
              "         1.70329670e-01]])"
            ]
          },
          "metadata": {},
          "execution_count": 19
        }
      ]
    },
    {
      "cell_type": "code",
      "source": [
        "print(len(clusters))\n",
        "print()\n",
        "print(clusters)"
      ],
      "metadata": {
        "colab": {
          "base_uri": "https://localhost:8080/"
        },
        "id": "jC6mEZVMoa-V",
        "outputId": "fdf24dec-c325-4873-ad4f-f44af0f0f1b7"
      },
      "execution_count": 20,
      "outputs": [
        {
          "output_type": "stream",
          "name": "stdout",
          "text": [
            "1797\n",
            "\n",
            "[5 7 7 ... 7 3 3]\n"
          ]
        }
      ]
    },
    {
      "cell_type": "code",
      "source": [
        "labels = np.zeros_like(clusters) # blank labels \n",
        "print(f\"The labels are : {labels}\")\n",
        "print(f\"\\nThe size of labels is : {labels.shape}\")\n",
        "print(\"The mask values are : \")\n",
        "for i in range(10): \n",
        "    mask = (clusters == i) \n",
        "    #if a specific digit belongs to/equivalent a specific cluster then its True else False\n",
        "    print(mask)\n",
        "    labels[mask] = mode(digits.target[mask])[0]"
      ],
      "metadata": {
        "colab": {
          "base_uri": "https://localhost:8080/"
        },
        "id": "WdfrN5_HocQg",
        "outputId": "532203f3-ffb1-4c5d-da13-0174b2c0c5a6"
      },
      "execution_count": 21,
      "outputs": [
        {
          "output_type": "stream",
          "name": "stdout",
          "text": [
            "The labels are : [0 0 0 ... 0 0 0]\n",
            "\n",
            "The size of labels is : (1797,)\n",
            "The mask values are : \n",
            "[False False False ... False False False]\n",
            "[False False False ... False False False]\n",
            "[False False False ... False False False]\n",
            "[False False False ... False  True  True]\n",
            "[False False False ... False False False]\n",
            "[ True False False ... False False False]\n",
            "[False False False ... False False False]\n",
            "[False  True  True ...  True False False]\n",
            "[False False False ... False False False]\n",
            "[False False False ... False False False]\n"
          ]
        },
        {
          "output_type": "stream",
          "name": "stderr",
          "text": [
            "<ipython-input-21-c3798383276a>:9: FutureWarning: Unlike other reduction functions (e.g. `skew`, `kurtosis`), the default behavior of `mode` typically preserves the axis it acts along. In SciPy 1.11.0, this behavior will change: the default value of `keepdims` will become False, the `axis` over which the statistic is taken will be eliminated, and the value None will no longer be accepted. Set `keepdims` to True or False to avoid this warning.\n",
            "  labels[mask] = mode(digits.target[mask])[0]\n"
          ]
        }
      ]
    },
    {
      "cell_type": "code",
      "source": [
        "accuracy = accuracy_score(digits.target, labels)\n",
        "accuracy"
      ],
      "metadata": {
        "colab": {
          "base_uri": "https://localhost:8080/"
        },
        "id": "E75f8qc0oflk",
        "outputId": "fe2c4128-b3b2-4e87-a3e5-180f777b337a"
      },
      "execution_count": 22,
      "outputs": [
        {
          "output_type": "execute_result",
          "data": {
            "text/plain": [
              "0.7935447968836951"
            ]
          },
          "metadata": {},
          "execution_count": 22
        }
      ]
    },
    {
      "cell_type": "code",
      "source": [
        "precision = precision_score(digits.target, labels, average=\"micro\")\n",
        "precision"
      ],
      "metadata": {
        "colab": {
          "base_uri": "https://localhost:8080/"
        },
        "id": "s9et_gjCog14",
        "outputId": "37d525fc-3977-4a51-fc61-062b3047c795"
      },
      "execution_count": 23,
      "outputs": [
        {
          "output_type": "execute_result",
          "data": {
            "text/plain": [
              "0.7935447968836951"
            ]
          },
          "metadata": {},
          "execution_count": 23
        }
      ]
    },
    {
      "cell_type": "code",
      "source": [
        "recall = recall_score(digits.target, labels, average=\"micro\")\n",
        "recall"
      ],
      "metadata": {
        "colab": {
          "base_uri": "https://localhost:8080/"
        },
        "id": "SyGct17Eoh6b",
        "outputId": "9c3790eb-e5a4-4405-e6d3-5c189bf1b794"
      },
      "execution_count": 24,
      "outputs": [
        {
          "output_type": "execute_result",
          "data": {
            "text/plain": [
              "0.7935447968836951"
            ]
          },
          "metadata": {},
          "execution_count": 24
        }
      ]
    },
    {
      "cell_type": "markdown",
      "source": [
        "#Exercise"
      ],
      "metadata": {
        "id": "nco7zWujojF6"
      }
    },
    {
      "cell_type": "code",
      "source": [
        "arr = np.array([[2, 10], [2, 5], [8, 4], [5, 8], [7, 5], [6, 4], [1, 2], [4, 9]])  \n",
        "arr"
      ],
      "metadata": {
        "colab": {
          "base_uri": "https://localhost:8080/"
        },
        "id": "jX77nUJkolLe",
        "outputId": "251e763c-5288-4a1b-c0ad-6392a7190d6d"
      },
      "execution_count": 25,
      "outputs": [
        {
          "output_type": "execute_result",
          "data": {
            "text/plain": [
              "array([[ 2, 10],\n",
              "       [ 2,  5],\n",
              "       [ 8,  4],\n",
              "       [ 5,  8],\n",
              "       [ 7,  5],\n",
              "       [ 6,  4],\n",
              "       [ 1,  2],\n",
              "       [ 4,  9]])"
            ]
          },
          "metadata": {},
          "execution_count": 25
        }
      ]
    },
    {
      "cell_type": "code",
      "source": [
        "kmeans_for_arr = KMeans(n_clusters=3,random_state=0, max_iter=3)\n",
        "clusters_for_arr = kmeans_for_arr.fit_predict(arr)\n",
        "kmeans_for_arr.cluster_centers_"
      ],
      "metadata": {
        "colab": {
          "base_uri": "https://localhost:8080/"
        },
        "id": "iMzaq4aaonxC",
        "outputId": "4149b766-0662-4b39-920c-4df4f89c4ef7"
      },
      "execution_count": 26,
      "outputs": [
        {
          "output_type": "stream",
          "name": "stderr",
          "text": [
            "/usr/local/lib/python3.9/dist-packages/sklearn/cluster/_kmeans.py:870: FutureWarning: The default value of `n_init` will change from 10 to 'auto' in 1.4. Set the value of `n_init` explicitly to suppress the warning\n",
            "  warnings.warn(\n"
          ]
        },
        {
          "output_type": "execute_result",
          "data": {
            "text/plain": [
              "array([[7.        , 4.33333333],\n",
              "       [3.66666667, 9.        ],\n",
              "       [1.5       , 3.5       ]])"
            ]
          },
          "metadata": {},
          "execution_count": 26
        }
      ]
    }
  ]
}